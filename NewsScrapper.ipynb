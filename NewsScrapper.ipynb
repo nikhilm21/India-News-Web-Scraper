{
 "cells": [
  {
   "cell_type": "code",
   "execution_count": 1,
   "metadata": {},
   "outputs": [],
   "source": [
    "import numpy\n",
    "import newspaper\n",
    "import pandas as pd\n",
    "from newspaper import Article\n",
    "from bs4 import BeautifulSoup\n",
    "import urllib.request\n",
    "from IPython.display import HTML\n",
    "import re\n",
    "import requests\n",
    "import datetime"
   ]
  },
  {
   "cell_type": "code",
   "execution_count": 2,
   "metadata": {},
   "outputs": [],
   "source": [
    "urls = []\n",
    "query = 'corona' # Use any keyword you would like\n",
    "for i in range(1,21):\n",
    "    urls.append(f\"https://www.ndtv.com/page/topic-load-more?type=news&page={i}&query={query}\")"
   ]
  },
  {
   "cell_type": "markdown",
   "metadata": {},
   "source": [
    "### HTML Links"
   ]
  },
  {
   "cell_type": "code",
   "execution_count": 38,
   "metadata": {},
   "outputs": [],
   "source": [
    "links = []\n",
    "for i in range(len(urls)):\n",
    "    html = requests.get(urls[i])\n",
    "    soup = BeautifulSoup(html.text, 'lxml')\n",
    "    for a in soup.find_all('a', href=True):\n",
    "        links.append(a['href'])"
   ]
  },
  {
   "cell_type": "markdown",
   "metadata": {},
   "source": [
    "### HTML Dates"
   ]
  },
  {
   "cell_type": "code",
   "execution_count": 42,
   "metadata": {},
   "outputs": [
    {
     "data": {
      "text/plain": [
       "300"
      ]
     },
     "execution_count": 42,
     "metadata": {},
     "output_type": "execute_result"
    }
   ],
   "source": [
    "len(links)"
   ]
  },
  {
   "cell_type": "code",
   "execution_count": 8,
   "metadata": {},
   "outputs": [],
   "source": [
    "dates = []\n",
    "for i in range(len(urls)):\n",
    "    html = requests.get(urls[i])\n",
    "    soup = BeautifulSoup(html.text, 'lxml')\n",
    "    lists = soup.find_all('li')\n",
    "    for i in lists:\n",
    "        date = i.find(class_='list_dateline' ).text.split(\"|\")[-1].strip()\n",
    "        date1 = datetime.datetime.strptime(date,\"%A %B %d, %Y\")\n",
    "        dates.append(date1)"
   ]
  },
  {
   "cell_type": "code",
   "execution_count": 40,
   "metadata": {},
   "outputs": [],
   "source": [
    "i = len(dates)"
   ]
  },
  {
   "cell_type": "code",
   "execution_count": 41,
   "metadata": {},
   "outputs": [],
   "source": [
    "links = links[0:i]"
   ]
  },
  {
   "cell_type": "markdown",
   "metadata": {},
   "source": [
    "### Title"
   ]
  },
  {
   "cell_type": "code",
   "execution_count": 12,
   "metadata": {},
   "outputs": [],
   "source": [
    "titles = []\n",
    "for i in range(len(links)):\n",
    "    html = requests.get(links[i])\n",
    "    soup = BeautifulSoup(html.text, 'lxml')\n",
    "    title = soup.title.get_text()\n",
    "    titles.append(title)"
   ]
  },
  {
   "cell_type": "markdown",
   "metadata": {},
   "source": [
    "### Newspaper"
   ]
  },
  {
   "cell_type": "code",
   "execution_count": 16,
   "metadata": {},
   "outputs": [],
   "source": [
    "keyword = []\n",
    "summ = []\n",
    "for i in range(len(links)):\n",
    "    article = Article(links[i])\n",
    "    article.download()\n",
    "    article.parse()\n",
    "    article.nlp()\n",
    "    keyword.append(article.keywords)\n",
    "    summ.append(article.summary)"
   ]
  },
  {
   "cell_type": "code",
   "execution_count": 17,
   "metadata": {},
   "outputs": [
    {
     "data": {
      "text/plain": [
       "300"
      ]
     },
     "execution_count": 17,
     "metadata": {},
     "output_type": "execute_result"
    }
   ],
   "source": [
    "len(summ)"
   ]
  },
  {
   "cell_type": "code",
   "execution_count": 18,
   "metadata": {},
   "outputs": [
    {
     "data": {
      "text/plain": [
       "300"
      ]
     },
     "execution_count": 18,
     "metadata": {},
     "output_type": "execute_result"
    }
   ],
   "source": [
    "len(keyword)"
   ]
  },
  {
   "cell_type": "code",
   "execution_count": null,
   "metadata": {},
   "outputs": [],
   "source": [
    "dat = {'keyword':keyword,'summary':summ}"
   ]
  },
  {
   "cell_type": "code",
   "execution_count": null,
   "metadata": {},
   "outputs": [],
   "source": [
    "keys = pd.DataFrame(dat)"
   ]
  },
  {
   "cell_type": "code",
   "execution_count": null,
   "metadata": {},
   "outputs": [],
   "source": [
    "keys.to_csv('keywordandsumm.csv')"
   ]
  },
  {
   "cell_type": "markdown",
   "metadata": {},
   "source": [
    "### Final"
   ]
  },
  {
   "cell_type": "code",
   "execution_count": 19,
   "metadata": {},
   "outputs": [],
   "source": [
    "link = pd.DataFrame(links, columns =['link'])\n",
    "url_lockdown = link['link'].unique()"
   ]
  },
  {
   "cell_type": "code",
   "execution_count": null,
   "metadata": {},
   "outputs": [],
   "source": [
    "url_lockdown = pd.DataFrame(url_lockdown,columns=['links'])"
   ]
  },
  {
   "cell_type": "code",
   "execution_count": null,
   "metadata": {},
   "outputs": [],
   "source": [
    "url_lockdown = url_lockdown.iloc[0:885]\n",
    "links = url_lockdown['links']"
   ]
  },
  {
   "cell_type": "code",
   "execution_count": 43,
   "metadata": {},
   "outputs": [],
   "source": [
    "query = []\n",
    "for i in range(len(links)):\n",
    "    query.append(\"corona\")"
   ]
  },
  {
   "cell_type": "code",
   "execution_count": 48,
   "metadata": {},
   "outputs": [],
   "source": [
    "data = {'title': titles,'url':links,'date':dates,'query':query,'keyword':keyword,'summary':summ}"
   ]
  },
  {
   "cell_type": "code",
   "execution_count": 49,
   "metadata": {},
   "outputs": [],
   "source": [
    "lock = pd.DataFrame(data)"
   ]
  },
  {
   "cell_type": "code",
   "execution_count": 50,
   "metadata": {},
   "outputs": [
    {
     "data": {
      "text/html": [
       "<div>\n",
       "<style scoped>\n",
       "    .dataframe tbody tr th:only-of-type {\n",
       "        vertical-align: middle;\n",
       "    }\n",
       "\n",
       "    .dataframe tbody tr th {\n",
       "        vertical-align: top;\n",
       "    }\n",
       "\n",
       "    .dataframe thead th {\n",
       "        text-align: right;\n",
       "    }\n",
       "</style>\n",
       "<table border=\"1\" class=\"dataframe\">\n",
       "  <thead>\n",
       "    <tr style=\"text-align: right;\">\n",
       "      <th></th>\n",
       "      <th>title</th>\n",
       "      <th>url</th>\n",
       "      <th>date</th>\n",
       "      <th>query</th>\n",
       "      <th>keyword</th>\n",
       "      <th>summary</th>\n",
       "    </tr>\n",
       "  </thead>\n",
       "  <tbody>\n",
       "    <tr>\n",
       "      <td>0</td>\n",
       "      <td>Brand New Mahindra Ambulances Pressed In Coron...</td>\n",
       "      <td>https://www.carandbike.com/news/brand-new-mahi...</td>\n",
       "      <td>2020-06-15</td>\n",
       "      <td>corona</td>\n",
       "      <td>[vehicle, mumbai, buy, brand, planning, ends, ...</td>\n",
       "      <td>In the present Covid-19 situation, are you pla...</td>\n",
       "    </tr>\n",
       "    <tr>\n",
       "      <td>1</td>\n",
       "      <td>Coronavirus: Amit Shah's Surprise Delhi LNJP H...</td>\n",
       "      <td>https://www.ndtv.com/india-news/coronavirus-am...</td>\n",
       "      <td>2020-06-15</td>\n",
       "      <td>corona</td>\n",
       "      <td>[shahs, allparty, covid, amit, delhi, surprise...</td>\n",
       "      <td>Delhi Coronavirus Cases: Amit Shah held an all...</td>\n",
       "    </tr>\n",
       "    <tr>\n",
       "      <td>2</td>\n",
       "      <td>\\r\\n\\tNDTV: Latest News, India News, Breaking ...</td>\n",
       "      <td>https://www.ndtv.com/india-news</td>\n",
       "      <td>2020-06-15</td>\n",
       "      <td>corona</td>\n",
       "      <td>[business, songs, india, photos, breaking, bol...</td>\n",
       "      <td>Listen to the latest songs , only on JioSaavn.com</td>\n",
       "    </tr>\n",
       "    <tr>\n",
       "      <td>3</td>\n",
       "      <td>Amit Shah Calls All-Party Meeting On Coronavir...</td>\n",
       "      <td>https://www.ndtv.com/india-news/home-minister-...</td>\n",
       "      <td>2020-06-14</td>\n",
       "      <td>corona</td>\n",
       "      <td>[crisis, national, allparty, pradesh, shah, to...</td>\n",
       "      <td>Delhi Corona Cases: Amit Shah and Arvind Kejri...</td>\n",
       "    </tr>\n",
       "    <tr>\n",
       "      <td>4</td>\n",
       "      <td>\\r\\n\\tNDTV: Latest News, India News, Breaking ...</td>\n",
       "      <td>https://www.ndtv.com/india-news</td>\n",
       "      <td>2020-06-12</td>\n",
       "      <td>corona</td>\n",
       "      <td>[business, songs, india, photos, breaking, bol...</td>\n",
       "      <td>Listen to the latest songs , only on JioSaavn.com</td>\n",
       "    </tr>\n",
       "  </tbody>\n",
       "</table>\n",
       "</div>"
      ],
      "text/plain": [
       "                                               title  \\\n",
       "0  Brand New Mahindra Ambulances Pressed In Coron...   \n",
       "1  Coronavirus: Amit Shah's Surprise Delhi LNJP H...   \n",
       "2  \\r\\n\\tNDTV: Latest News, India News, Breaking ...   \n",
       "3  Amit Shah Calls All-Party Meeting On Coronavir...   \n",
       "4  \\r\\n\\tNDTV: Latest News, India News, Breaking ...   \n",
       "\n",
       "                                                 url       date   query  \\\n",
       "0  https://www.carandbike.com/news/brand-new-mahi... 2020-06-15  corona   \n",
       "1  https://www.ndtv.com/india-news/coronavirus-am... 2020-06-15  corona   \n",
       "2                    https://www.ndtv.com/india-news 2020-06-15  corona   \n",
       "3  https://www.ndtv.com/india-news/home-minister-... 2020-06-14  corona   \n",
       "4                    https://www.ndtv.com/india-news 2020-06-12  corona   \n",
       "\n",
       "                                             keyword  \\\n",
       "0  [vehicle, mumbai, buy, brand, planning, ends, ...   \n",
       "1  [shahs, allparty, covid, amit, delhi, surprise...   \n",
       "2  [business, songs, india, photos, breaking, bol...   \n",
       "3  [crisis, national, allparty, pradesh, shah, to...   \n",
       "4  [business, songs, india, photos, breaking, bol...   \n",
       "\n",
       "                                             summary  \n",
       "0  In the present Covid-19 situation, are you pla...  \n",
       "1  Delhi Coronavirus Cases: Amit Shah held an all...  \n",
       "2  Listen to the latest songs , only on JioSaavn.com  \n",
       "3  Delhi Corona Cases: Amit Shah and Arvind Kejri...  \n",
       "4  Listen to the latest songs , only on JioSaavn.com  "
      ]
     },
     "execution_count": 50,
     "metadata": {},
     "output_type": "execute_result"
    }
   ],
   "source": [
    "lock.head()"
   ]
  },
  {
   "cell_type": "code",
   "execution_count": 63,
   "metadata": {},
   "outputs": [],
   "source": [
    "lock1 = lock.drop_duplicates(subset = 'url')"
   ]
  },
  {
   "cell_type": "code",
   "execution_count": 65,
   "metadata": {},
   "outputs": [],
   "source": [
    "lockf = lock1.reset_index(drop=True)"
   ]
  },
  {
   "cell_type": "code",
   "execution_count": 66,
   "metadata": {},
   "outputs": [],
   "source": [
    "lockf.to_csv('corona_ndtv.csv')"
   ]
  }
 ],
 "metadata": {
  "kernelspec": {
   "display_name": "Python 3",
   "language": "python",
   "name": "python3"
  },
  "language_info": {
   "codemirror_mode": {
    "name": "ipython",
    "version": 3
   },
   "file_extension": ".py",
   "mimetype": "text/x-python",
   "name": "python",
   "nbconvert_exporter": "python",
   "pygments_lexer": "ipython3",
   "version": "3.8.5"
  }
 },
 "nbformat": 4,
 "nbformat_minor": 2
}
